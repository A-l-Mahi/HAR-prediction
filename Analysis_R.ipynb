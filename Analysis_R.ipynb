{
  "nbformat": 4,
  "nbformat_minor": 0,
  "metadata": {
    "colab": {
      "provenance": [],
      "gpuType": "T4",
      "authorship_tag": "ABX9TyO66id7uvZ1Hal53ewP1NSQ",
      "include_colab_link": true
    },
    "kernelspec": {
      "name": "ir",
      "display_name": "R"
    },
    "language_info": {
      "name": "R"
    }
  },
  "cells": [
    {
      "cell_type": "markdown",
      "metadata": {
        "id": "view-in-github",
        "colab_type": "text"
      },
      "source": [
        "<a href=\"https://colab.research.google.com/github/A-l-Mahi/motion-prediction/blob/main/Analysis_R.ipynb\" target=\"_parent\"><img src=\"https://colab.research.google.com/assets/colab-badge.svg\" alt=\"Open In Colab\"/></a>"
      ]
    },
    {
      "cell_type": "code",
      "execution_count": 1,
      "metadata": {
        "id": "z_T-lyh3m56g",
        "colab": {
          "base_uri": "https://localhost:8080/"
        },
        "outputId": "0931c2fd-47e8-4d7f-c122-6586fbb4799f"
      },
      "outputs": [
        {
          "output_type": "stream",
          "name": "stderr",
          "text": [
            "\u001b[1m\u001b[22mIs it OK to cache OAuth access credentials in the folder \u001b[34m~/.cache/gargle\u001b[39m\n",
            "between R sessions?\n",
            "\u001b[1m1\u001b[22m: Yes\n",
            "\u001b[1m2\u001b[22m: No\n"
          ]
        },
        {
          "name": "stdout",
          "output_type": "stream",
          "text": [
            "Selection: yes\n"
          ]
        },
        {
          "output_type": "stream",
          "name": "stderr",
          "text": [
            "\u001b[1m\u001b[22mEnter a number between 1 and 2, or enter 0 to exit.\n"
          ]
        },
        {
          "name": "stdout",
          "output_type": "stream",
          "text": [
            "Selection: 1\n"
          ]
        },
        {
          "output_type": "stream",
          "name": "stderr",
          "text": [
            "Please point your browser to the following url: \n",
            "\n",
            "https://accounts.google.com/o/oauth2/v2/auth?client_id=603366585132-frjlouoa3s2ono25d2l9ukvhlsrlnr7k.apps.googleusercontent.com&scope=https%3A%2F%2Fwww.googleapis.com%2Fauth%2Fdrive%20https%3A%2F%2Fwww.googleapis.com%2Fauth%2Fuserinfo.email&redirect_uri=https%3A%2F%2Fwww.tidyverse.org%2Fgoogle-callback%2F&response_type=code&state=ecfc45d770a18435e25085e98d1a5fbe&access_type=offline&prompt=consent\n",
            "\n"
          ]
        },
        {
          "name": "stdout",
          "output_type": "stream",
          "text": [
            "Enter authorization code: eyJjb2RlIjoiNC8wQWRldTVCV0ZpY1hyTkFreU9LbU5CSEVjNEZqcG9WRG5rZU4wLWtYZWx3blRBaG1rb1ZQd21TT0JhbkdvMTM5MGJGYVZTUSIsInN0YXRlIjoiZWNmYzQ1ZDc3MGExODQzNWUyNTA4NWU5OGQxYTVmYmUifQ==\n"
          ]
        }
      ],
      "source": [
        "#mount and authenticate Drive\n",
        "library(\"googledrive\")\n",
        "drive_auth(\n",
        "  email = gargle::gargle_oauth_email(),\n",
        "  path = NULL,\n",
        "  scopes = \"https://www.googleapis.com/auth/drive\",\n",
        "  cache = gargle::gargle_oauth_cache(),\n",
        "  use_oob = gargle::gargle_oob_default(),\n",
        "  token = NULL\n",
        ")"
      ]
    },
    {
      "cell_type": "code",
      "source": [
        "install.packages(c(\"gbm\", \"randomForest\", \"caret\")); install.packages(\"randomForest\");install.packages(\"caret\")\n",
        "\n",
        "library(dplyr); library(caret); library(ggplot2); require(parallel); require(dplyr)\n",
        "\n",
        "set.seed(333)"
      ],
      "metadata": {
        "id": "qozF5tplnh43"
      },
      "execution_count": null,
      "outputs": []
    },
    {
      "cell_type": "code",
      "source": [
        "drive_download(\"pml-testing.csv\", type = \"csv\");drive_download(\"pml-training.csv\", type = \"csv\")"
      ],
      "metadata": {
        "id": "U4dYary2DjYy",
        "colab": {
          "base_uri": "https://localhost:8080/"
        },
        "outputId": "eba5a89f-7baa-49b9-e2d6-b222056ba5de"
      },
      "execution_count": 3,
      "outputs": [
        {
          "output_type": "stream",
          "name": "stderr",
          "text": [
            "\u001b[33m!\u001b[39m Ignoring `type`. Only consulted for native Google file types.\n",
            "\n",
            "  MIME type of `file`: \u001b[32mmime_type\u001b[39m.\n",
            "\n",
            "File downloaded:\n",
            "\n",
            "• \u001b[36mpml-testing.csv\u001b[39m \u001b[90m<id: 1_m9q2fS08KrE4F3WmAVYrgVDp2-3TqDm>\u001b[39m\n",
            "\n",
            "Saved locally as:\n",
            "\n",
            "• \u001b[34mpml-testing.csv\u001b[39m\n",
            "\n",
            "\u001b[33m!\u001b[39m Ignoring `type`. Only consulted for native Google file types.\n",
            "\n",
            "  MIME type of `file`: \u001b[32mmime_type\u001b[39m.\n",
            "\n",
            "File downloaded:\n",
            "\n",
            "• \u001b[36mpml-training.csv\u001b[39m \u001b[90m<id: 1QyUzByGNMruYYAjIz9qpk8zCMSSC8VKX>\u001b[39m\n",
            "\n",
            "Saved locally as:\n",
            "\n",
            "• \u001b[34mpml-training.csv\u001b[39m\n",
            "\n"
          ]
        }
      ]
    },
    {
      "cell_type": "code",
      "source": [
        "pml <- read.csv(\"pml-training.csv\")\n",
        "length(names(pml))"
      ],
      "metadata": {
        "colab": {
          "base_uri": "https://localhost:8080/",
          "height": 34
        },
        "id": "PxUZtdmGIope",
        "outputId": "48276d14-1ea4-458a-fcf4-fdc35e6dd69f"
      },
      "execution_count": 4,
      "outputs": [
        {
          "output_type": "display_data",
          "data": {
            "text/html": [
              "160"
            ],
            "text/markdown": "160",
            "text/latex": "160",
            "text/plain": [
              "[1] 160"
            ]
          },
          "metadata": {}
        }
      ]
    },
    {
      "cell_type": "code",
      "source": [
        "# preProcessing\n",
        "# remove the NAs of the data.\n",
        "\n",
        "#Now lets check for NAs\n",
        "\n",
        "#Here we get the percentage of variables that are Na or empty characters\n",
        "pml$classe <- as.factor(pml$classe)\n",
        "df <-  pml[, colSums(is.na(pml)) == 0] # there seems to be some columns are all NAs\n",
        "\n",
        "df <- df[,colSums(df == \"\") == 0] # Here we check for empty characters\n",
        "\n",
        "1 - (length(names(df)) / length(names(pml)))\n",
        "\n",
        "# now we can see that 62.5 of the data are either Nas of Empty characters\n",
        "\n",
        "# we are now down to 60 columns\n",
        "\n",
        "df <- df[, -c(which(grepl(\"^X|timestamp|window|user_name\", names(df))))]\n",
        "\n",
        "# removing less meaningful variables X|timestamp|window|user_name\n",
        "\n",
        "# And lastly 53 columns"
      ],
      "metadata": {
        "colab": {
          "base_uri": "https://localhost:8080/",
          "height": 34
        },
        "id": "Kg70PZmKw9va",
        "outputId": "d33ef3de-402e-4de0-e248-36321fe135bf"
      },
      "execution_count": 5,
      "outputs": [
        {
          "output_type": "display_data",
          "data": {
            "text/html": [
              "0.625"
            ],
            "text/markdown": "0.625",
            "text/latex": "0.625",
            "text/plain": [
              "[1] 0.625"
            ]
          },
          "metadata": {}
        }
      ]
    },
    {
      "cell_type": "code",
      "source": [
        "\n",
        "# Each accelerometer have 13 readings that indicates it's positions on the volunteers.\n",
        "# Reducing the data set to 50 observation due to limited computing power.\n",
        "sam <- sample(nrow(pml), 500)\n",
        "\n",
        "df <- df[sam ,]\n",
        "\n",
        "\n",
        "# Considering the enough data set we have, lets slice the training data set to subTrain and validation set\n",
        "\n",
        "\n",
        "subTrain <- createDataPartition(y = df$classe, p = 0.60, list = F)\n",
        "\n",
        "subTraining <- df[subTrain, ]\n",
        "validation <- df[-subTrain, ]\n",
        "\n",
        "\n",
        "#PCA on subTraining\n",
        "\n",
        "#Pricinple Component Analysis\n",
        "\n",
        "\n",
        "subTraining[, -53] <- lapply(subTraining[, -53], as.numeric)\n",
        "\n",
        "#corSub <- cor(subTraining[, -53])\n",
        "\n",
        "#summary(corSub[upper.tri(corSub)])\n",
        "\n",
        "#highlyCor <- findCorrelation(corSub, cutoff = .9)\n",
        "\n",
        "#corTraining <- subTraining[, -highlyCor]\n",
        "\n",
        "#corTraining[, -53] <- lapply(corTraining[, -53], as.numeric)\n",
        "\n",
        "#corSub2 <- cor(corTraining[, -53])\n",
        "\n",
        "#summary(corSub[upper.tri(corSub2)])\n",
        "\n",
        "\n"
      ],
      "metadata": {
        "id": "ytk0vopZdx1c"
      },
      "execution_count": 6,
      "outputs": []
    },
    {
      "cell_type": "code",
      "source": [
        "fitControl <- trainControl(\n",
        "  method = \"repeatedcv\",\n",
        "  number = 10,\n",
        "  repeats = 10,\n",
        "  classProbs = T\n",
        "  )"
      ],
      "metadata": {
        "id": "YUQGYt9lfDNl"
      },
      "execution_count": null,
      "outputs": []
    },
    {
      "cell_type": "markdown",
      "source": [],
      "metadata": {
        "id": "_xZK1DjUfFJo"
      }
    },
    {
      "cell_type": "code",
      "source": [
        "#Here we have fit 4 models Logistic Regression, Decision Trees, Random Forest and K-Nearest Neighbour respectively\n",
        "\n",
        "modFitGBM <- train(classe ~ ., method = \"gbm\", data = subTraining,\n",
        "          trControl = fitControl\n",
        ")\n",
        "modFitFor <- train(classe ~., method = \"rf\", data = subTraining,\n",
        "          trContol = fitControl\n",
        ")\n",
        "\n",
        "modFitNb <- train(classe ~., method = \"nb\", data = subTraining,\n",
        "          trControl = fitControl\n",
        ")\n"
      ],
      "metadata": {
        "id": "-mn1aE_AHCSd"
      },
      "execution_count": null,
      "outputs": []
    },
    {
      "cell_type": "code",
      "source": [
        "preLogit <- predict(modFitGBM, newdata = validation)\n",
        "preFor <- predict(modFitFor, newdata = validation)\n",
        "preNb <- predict(modFitNb,newdata = validation)"
      ],
      "metadata": {
        "id": "NaATKKmW_xc5"
      },
      "execution_count": null,
      "outputs": []
    },
    {
      "cell_type": "code",
      "source": [
        "confusionMatrix(preLogit, validation$classe)\n",
        "confusionMatrix(preFor, validation$classe)\n",
        "confusionMatrix(preNb, validation$classe)"
      ],
      "metadata": {
        "id": "cff-eYAA_1R1"
      },
      "execution_count": null,
      "outputs": []
    },
    {
      "cell_type": "code",
      "source": [
        "preTree <- predict(modFitTree, newdata = validation)"
      ],
      "metadata": {
        "id": "UwJUl1MDxiPb"
      },
      "execution_count": null,
      "outputs": []
    },
    {
      "cell_type": "code",
      "source": [
        "confusionMatrix(preTree, validation$classe)"
      ],
      "metadata": {
        "id": "KdY2pFzYwg7c"
      },
      "execution_count": null,
      "outputs": []
    },
    {
      "cell_type": "code",
      "source": [
        "list.dirs(\"content/drive\")"
      ],
      "metadata": {
        "colab": {
          "base_uri": "https://localhost:8080/",
          "height": 17
        },
        "id": "aokymFYOGoyL",
        "outputId": "957f9d52-2a43-483b-b4ed-e43cc44dfd95"
      },
      "execution_count": null,
      "outputs": [
        {
          "output_type": "display_data",
          "data": {
            "text/html": [],
            "text/markdown": "",
            "text/latex": "",
            "text/plain": [
              "character(0)"
            ]
          },
          "metadata": {}
        }
      ]
    }
  ]
}